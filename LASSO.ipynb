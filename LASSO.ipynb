{
 "cells": [
  {
   "cell_type": "code",
   "execution_count": 1,
   "metadata": {},
   "outputs": [],
   "source": [
    "import pandas as pd\n",
    "import numpy as np\n",
    "from sklearn.impute import SimpleImputer\n",
    "from sklearn.preprocessing import StandardScaler\n",
    "from sklearn.linear_model import ElasticNetCV\n",
    "import matplotlib.pyplot as plt\n",
    "import seaborn as sns"
   ]
  },
  {
   "cell_type": "code",
   "execution_count": 2,
   "metadata": {},
   "outputs": [],
   "source": [
    "import vars"
   ]
  },
  {
   "cell_type": "code",
   "execution_count": 3,
   "metadata": {},
   "outputs": [],
   "source": [
    "data = pd.read_csv(\"./CLEAN_ABCD_5.1_panel_20240917.csv\", low_memory=False, index_col=0)\n",
    "sample = data"
   ]
  },
  {
   "cell_type": "code",
   "execution_count": 4,
   "metadata": {},
   "outputs": [],
   "source": [
    "# Standardize puberty data\n",
    "sample['puberty_k'] = sample[['female_puberty', 'male_puberty']].apply(lambda x: x.iloc[0] if pd.notna(x.iloc[0]) else x.iloc[1], axis=1)\n",
    "tp = 2"
   ]
  },
  {
   "cell_type": "markdown",
   "metadata": {},
   "source": [
    "# Within Categories"
   ]
  },
  {
   "cell_type": "code",
   "execution_count": 5,
   "metadata": {},
   "outputs": [
    {
     "name": "stderr",
     "output_type": "stream",
     "text": [
      "/Users/Raphael/Desktop/GabLab/ABCD/python_analysis/vars.py:292: FutureWarning: \n",
      "\n",
      "Passing `palette` without assigning `hue` is deprecated and will be removed in v0.14.0. Assign the `y` variable to `hue` and set `legend=False` for the same effect.\n",
      "\n",
      "  sns.barplot(x=sorted_coefs.values, y=sorted_coefs.index, palette=\"gray\")\n",
      "/Users/Raphael/Desktop/GabLab/ABCD/python_analysis/vars.py:292: FutureWarning: \n",
      "\n",
      "Passing `palette` without assigning `hue` is deprecated and will be removed in v0.14.0. Assign the `y` variable to `hue` and set `legend=False` for the same effect.\n",
      "\n",
      "  sns.barplot(x=sorted_coefs.values, y=sorted_coefs.index, palette=\"gray\")\n",
      "/Users/Raphael/Desktop/GabLab/ABCD/python_analysis/vars.py:292: FutureWarning: \n",
      "\n",
      "Passing `palette` without assigning `hue` is deprecated and will be removed in v0.14.0. Assign the `y` variable to `hue` and set `legend=False` for the same effect.\n",
      "\n",
      "  sns.barplot(x=sorted_coefs.values, y=sorted_coefs.index, palette=\"gray\")\n",
      "/Users/Raphael/Desktop/GabLab/ABCD/python_analysis/vars.py:292: FutureWarning: \n",
      "\n",
      "Passing `palette` without assigning `hue` is deprecated and will be removed in v0.14.0. Assign the `y` variable to `hue` and set `legend=False` for the same effect.\n",
      "\n",
      "  sns.barplot(x=sorted_coefs.values, y=sorted_coefs.index, palette=\"gray\")\n",
      "/Users/Raphael/Desktop/GabLab/ABCD/python_analysis/vars.py:292: FutureWarning: \n",
      "\n",
      "Passing `palette` without assigning `hue` is deprecated and will be removed in v0.14.0. Assign the `y` variable to `hue` and set `legend=False` for the same effect.\n",
      "\n",
      "  sns.barplot(x=sorted_coefs.values, y=sorted_coefs.index, palette=\"gray\")\n",
      "/Users/Raphael/Desktop/GabLab/ABCD/python_analysis/vars.py:292: FutureWarning: \n",
      "\n",
      "Passing `palette` without assigning `hue` is deprecated and will be removed in v0.14.0. Assign the `y` variable to `hue` and set `legend=False` for the same effect.\n",
      "\n",
      "  sns.barplot(x=sorted_coefs.values, y=sorted_coefs.index, palette=\"gray\")\n",
      "/Users/Raphael/Desktop/GabLab/ABCD/python_analysis/vars.py:292: FutureWarning: \n",
      "\n",
      "Passing `palette` without assigning `hue` is deprecated and will be removed in v0.14.0. Assign the `y` variable to `hue` and set `legend=False` for the same effect.\n",
      "\n",
      "  sns.barplot(x=sorted_coefs.values, y=sorted_coefs.index, palette=\"gray\")\n",
      "/Users/Raphael/Desktop/GabLab/ABCD/python_analysis/vars.py:292: FutureWarning: \n",
      "\n",
      "Passing `palette` without assigning `hue` is deprecated and will be removed in v0.14.0. Assign the `y` variable to `hue` and set `legend=False` for the same effect.\n",
      "\n",
      "  sns.barplot(x=sorted_coefs.values, y=sorted_coefs.index, palette=\"gray\")\n",
      "/Users/Raphael/Desktop/GabLab/ABCD/python_analysis/vars.py:292: FutureWarning: \n",
      "\n",
      "Passing `palette` without assigning `hue` is deprecated and will be removed in v0.14.0. Assign the `y` variable to `hue` and set `legend=False` for the same effect.\n",
      "\n",
      "  sns.barplot(x=sorted_coefs.values, y=sorted_coefs.index, palette=\"gray\")\n"
     ]
    }
   ],
   "source": [
    "for name, l in vars.within_categories:\n",
    "  all_predictors = [\"depress_D_p\", \"time\"] + l\n",
    "  all_x = sample[all_predictors]\n",
    "\n",
    "  # Filter the data for the current time point (tp)\n",
    "  t = all_x[all_x['time'] == tp]\n",
    "  t_available = t.dropna(axis=1, how='all')  # Keep columns with at least some non-NaN values\n",
    "  \n",
    "  # Impute missing values using the mean\n",
    "  imputer = SimpleImputer(strategy='mean')\n",
    "  imputed = pd.DataFrame(imputer.fit_transform(t_available), columns=t_available.columns)\n",
    "\n",
    "  # Standardize the data\n",
    "  scaler = StandardScaler()\n",
    "  imputed_scaled = pd.DataFrame(scaler.fit_transform(imputed), columns=imputed.columns)\n",
    "\n",
    "  # Prepare X and y for the model\n",
    "  X = imputed_scaled.drop(columns=[\"depress_D_p\", \"time\"])\n",
    "  y = imputed_scaled[\"depress_D_p\"]\n",
    "\n",
    "  # Fit LASSO model (ElasticNet with l1_ratio=1 corresponds to LASSO)\n",
    "  model = ElasticNetCV(l1_ratio=1, cv=15, random_state=0)\n",
    "  model.fit(X, y)\n",
    "\n",
    "  # print(name)\n",
    "  # print(pd.Series(model.coef_, index=X.columns))\n",
    "\n",
    "  vars.save_plot(model, name, X, y, tp)"
   ]
  },
  {
   "cell_type": "markdown",
   "metadata": {},
   "source": [
    "# Across Categories"
   ]
  },
  {
   "cell_type": "code",
   "execution_count": 6,
   "metadata": {},
   "outputs": [
    {
     "name": "stderr",
     "output_type": "stream",
     "text": [
      "/Users/Raphael/Desktop/GabLab/ABCD/python_analysis/vars.py:292: FutureWarning: \n",
      "\n",
      "Passing `palette` without assigning `hue` is deprecated and will be removed in v0.14.0. Assign the `y` variable to `hue` and set `legend=False` for the same effect.\n",
      "\n",
      "  sns.barplot(x=sorted_coefs.values, y=sorted_coefs.index, palette=\"gray\")\n"
     ]
    }
   ],
   "source": [
    "all_predictors = [\"depress_D_p\", \"time\"] + vars.across_categories\n",
    "all_x = sample[all_predictors]\n",
    "\n",
    "# Filter the data for the current time point (tp)\n",
    "t = all_x[all_x['time'] == tp]\n",
    "t_available = t.dropna(axis=1, how='all')  # Keep columns with at least some non-NaN values\n",
    "\n",
    "# Impute missing values using the mean\n",
    "imputer = SimpleImputer(strategy='mean')\n",
    "imputed = pd.DataFrame(imputer.fit_transform(t_available), columns=t_available.columns)\n",
    "\n",
    "# Standardize the data\n",
    "scaler = StandardScaler()\n",
    "imputed_scaled = pd.DataFrame(scaler.fit_transform(imputed), columns=imputed.columns)\n",
    "\n",
    "# Prepare X and y for the model\n",
    "X = imputed_scaled.drop(columns=[\"depress_D_p\", \"time\"])\n",
    "y = imputed_scaled[\"depress_D_p\"]\n",
    "\n",
    "# Fit LASSO model (ElasticNet with l1_ratio=1 corresponds to LASSO)\n",
    "model = ElasticNetCV(l1_ratio=1, cv=15, random_state=0)\n",
    "model.fit(X, y)\n",
    "\n",
    "vars.save_plot(model, \"across categories\", X, y, tp)"
   ]
  }
 ],
 "metadata": {
  "kernelspec": {
   "display_name": "Python 3",
   "language": "python",
   "name": "python3"
  },
  "language_info": {
   "codemirror_mode": {
    "name": "ipython",
    "version": 3
   },
   "file_extension": ".py",
   "mimetype": "text/x-python",
   "name": "python",
   "nbconvert_exporter": "python",
   "pygments_lexer": "ipython3",
   "version": "3.9.6"
  }
 },
 "nbformat": 4,
 "nbformat_minor": 2
}
